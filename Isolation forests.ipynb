{
 "cells": [
  {
   "cell_type": "code",
   "execution_count": null,
   "metadata": {},
   "outputs": [],
   "source": [
    "import pandas as pd\n",
    "import maptlotlib.pyplot as plt\n",
    "import eif as iso # enhanced isolation tree library"
   ]
  },
  {
   "cell_type": "code",
   "execution_count": null,
   "metadata": {},
   "outputs": [],
   "source": [
    "sel_data = pd.read_feather(\"birdie.feather\")"
   ]
  },
  {
   "cell_type": "code",
   "execution_count": null,
   "metadata": {},
   "outputs": [],
   "source": [
    "feature_columns = [prefix+str(i)\n",
    "                  for prefix in [\"Temp\", \"SM\"] for i in range(1,7)]"
   ]
  },
  {
   "cell_type": "code",
   "execution_count": null,
   "metadata": {},
   "outputs": [],
   "source": [
    "sel_data[\"all_ok\"] = np.all(np.stack(\n",
    "    [(sel_data[prefix+f\"{i}_label\"] == \"OK\")\n",
    "    for prefix in [\"Temp\", \"SM\"] for i in range(1,7)],\n",
    "    axis=1), axis=1)"
   ]
  },
  {
   "cell_type": "markdown",
   "metadata": {},
   "source": [
    "How many points of the selected are ok?"
   ]
  },
  {
   "cell_type": "code",
   "execution_count": null,
   "metadata": {},
   "outputs": [],
   "source": [
    "sel_data[\"all_ok\"].value_counts()"
   ]
  },
  {
   "cell_type": "code",
   "execution_count": null,
   "metadata": {},
   "outputs": [],
   "source": [
    "feature_matrix = sel_data[feature_columns].values\n",
    "hasnan = np.any(np.isnan(feature_matrix), axis=1) # NaNs will be excluded for most cases"
   ]
  },
  {
   "cell_type": "markdown",
   "metadata": {},
   "source": [
    "## Isolation forests"
   ]
  },
  {
   "cell_type": "code",
   "execution_count": null,
   "metadata": {},
   "outputs": [],
   "source": [
    "forest = iso.iForest(feature_matrix[~hasnan, :], ntrees=20, sample_size=256, ExtensionLevel=2)\n",
    "paths = forest.compute_paths(X_in=feature_matrix[~hasnan, :])"
   ]
  },
  {
   "cell_type": "code",
   "execution_count": null,
   "metadata": {},
   "outputs": [],
   "source": [
    "plt.figure()\n",
    "plt.hist(paths, bins=200);\n",
    "plt.xlabel(\"outlier score\")"
   ]
  },
  {
   "cell_type": "markdown",
   "metadata": {},
   "source": [
    "## Ploting with datashader"
   ]
  },
  {
   "cell_type": "code",
   "execution_count": null,
   "metadata": {},
   "outputs": [],
   "source": [
    "import holoviews as hv\n",
    "import datashader as ds\n",
    "import holoviews.operation.datashader as hd\n",
    "from holoviews.operation.datashader import datashade"
   ]
  },
  {
   "cell_type": "code",
   "execution_count": null,
   "metadata": {},
   "outputs": [],
   "source": [
    "sel_viz = sel_data.iloc[~hasnan, :]\n",
    "sel_viz.loc[:, \"outlier\"] = paths\n",
    "sel_viz = sel_viz.sort_values([\"box\", \"datetime\"])\n",
    "sel_viz[\"outlier_cat\"] = np.digitize(sel_viz[\"outlier\"], np.linspace(0.33, 0.45, 4))"
   ]
  },
  {
   "cell_type": "code",
   "execution_count": null,
   "metadata": {},
   "outputs": [],
   "source": [
    "hv.extension(\"bokeh\")\n",
    "hv.output(backend=\"bokeh\")"
   ]
  },
  {
   "cell_type": "markdown",
   "metadata": {},
   "source": [
    "Timeseries with outliers labeled"
   ]
  },
  {
   "cell_type": "code",
   "execution_count": null,
   "metadata": {},
   "outputs": [],
   "source": [
    "hv.output(backend=\"bokeh\")\n",
    "lines = hv.Curve(sel_viz[sel_viz.box==39],\n",
    "                  kdims=['datetime','SM2'], vdims=[\"box\", \"outlier_cat\"]).opts(color=\"outlier_cat\")\n",
    "hd.datashade(lines, aggregator=ds.count_cat('outlier_cat')).opts(height=500,width=800)"
   ]
  },
  {
   "cell_type": "markdown",
   "metadata": {},
   "source": [
    "## ROC"
   ]
  },
  {
   "cell_type": "code",
   "execution_count": null,
   "metadata": {},
   "outputs": [],
   "source": [
    "n_samples = 200\n",
    "sensitivities = np.zeros(n_samples)\n",
    "specificities = np.zeros(n_samples)\n",
    "is_ok_data = sel_data.loc[~hasnan, \"all_ok\"]\n",
    "for i, threshold in enumerate(np.linspace(np.min(paths), np.max(paths), n_samples)):\n",
    "    n_true_positivies = np.sum((paths > threshold) & (is_ok_data == False))\n",
    "    n_true_negatives = np.sum((paths < threshold) & (is_ok_data == True))\n",
    "    n_false_positivies = np.sum((paths > threshold) & (is_ok_data == True))\n",
    "    n_false_negatives = np.sum((paths < threshold) & (is_ok_data == False))\n",
    "    sensitivities[i] = n_true_positivies / (n_true_positivies + n_false_negatives)\n",
    "    specificities[i] = n_true_negatives / (n_true_negatives + n_false_positivies)"
   ]
  },
  {
   "cell_type": "code",
   "execution_count": null,
   "metadata": {},
   "outputs": [],
   "source": [
    "plt.figure()\n",
    "plt.plot(sensitivities, specificities)\n",
    "plt.plot([1,0],[0,1], color=\"gray\", lw=0.5)\n",
    "plt.xlabel(\"sensitivity\")\n",
    "plt.ylabel(\"specificity\")"
   ]
  },
  {
   "cell_type": "markdown",
   "metadata": {},
   "source": [
    "# PCs"
   ]
  },
  {
   "cell_type": "code",
   "execution_count": null,
   "metadata": {},
   "outputs": [],
   "source": [
    "from sklearn.decomposition import PCA"
   ]
  },
  {
   "cell_type": "code",
   "execution_count": null,
   "metadata": {},
   "outputs": [],
   "source": [
    "pcs = PCA(2)"
   ]
  },
  {
   "cell_type": "code",
   "execution_count": null,
   "metadata": {},
   "outputs": [],
   "source": [
    "threshold = 0.4\n",
    "sms = pcs.fit(feature_matrix[~hasnan, :][paths<threshold, :])"
   ]
  },
  {
   "cell_type": "code",
   "execution_count": null,
   "metadata": {},
   "outputs": [],
   "source": [
    "transformed = pd.DataFrame(pcs.transform(feature_matrix[~hasnan, :]), columns=[\"PC1\", \"PC2\"])\n",
    "transformed[\"is_outlier\"] = paths<threshold\n",
    "transformed[\"is_all_ok\"] = sel_data[\"all_ok\"].loc[~hasnan]\n",
    "transformed[\"combined\"] = transformed[\"is_all_ok\"]*1 + transformed[\"is_outlier\"]*2"
   ]
  },
  {
   "cell_type": "code",
   "execution_count": null,
   "metadata": {},
   "outputs": [],
   "source": [
    "green = (10, 200,90)\n",
    "red = (230,30,0)\n",
    "blue = (0,120,250)\n",
    "hv.output(backend=\"bokeh\")\n",
    "lines = hv.Points(transformed,\n",
    "                  kdims=['PC1','PC2'], vdims=[\"is_outlier\", \"is_all_ok\", \"combined\"])\n",
    "hd.datashade(lines, aggregator=ds.count_cat(\"combined\"),\n",
    "             color_key={0:red, 1:green, 2:green, 3:blue}).opts(height=500,width=800)"
   ]
  }
 ],
 "metadata": {
  "kernelspec": {
   "display_name": "Python 3",
   "language": "python",
   "name": "python3"
  },
  "language_info": {
   "codemirror_mode": {
    "name": "ipython",
    "version": 3
   },
   "file_extension": ".py",
   "mimetype": "text/x-python",
   "name": "python",
   "nbconvert_exporter": "python",
   "pygments_lexer": "ipython3",
   "version": "3.7.8"
  }
 },
 "nbformat": 4,
 "nbformat_minor": 4
}
